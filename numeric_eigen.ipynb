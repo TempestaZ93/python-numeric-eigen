{
 "cells": [
  {
   "cell_type": "code",
   "execution_count": 84,
   "metadata": {},
   "outputs": [
    {
     "name": "stdout",
     "output_type": "stream",
     "text": [
      "λ_0: 1.00\n",
      "e_0: [0.707 0.707] \n",
      "\n",
      "λ_1: 0.30\n",
      "e_1: [ 0. -1.] \n",
      "\n",
      "[[0.5 0.5]\n",
      " [0.5 0.8]]\n"
     ]
    }
   ],
   "source": [
    "###############################################################\n",
    "################## N U M E R I C   E I G E N ##################\n",
    "###############################################################\n",
    "\n",
    "import numpy as np\n",
    "\n",
    "'''\n",
    "              A dot b_k\n",
    "    b_k1 = --------------- \n",
    "           || A dot b_k ||\n",
    "'''\n",
    "def power_iteration(A, num_simulations):\n",
    "    # b is random vector with size of A\n",
    "    b_k = np.random.rand(A.shape[1])\n",
    "    \n",
    "    for _ in range(num_simulations):\n",
    "        # Ab\n",
    "        b_k1 = np.dot(A, b_k)\n",
    "\n",
    "        # || b ||\n",
    "        b_k1_norm = np.linalg.norm(b_k1)\n",
    "\n",
    "        # b_k = Ab / ||b||\n",
    "        b_k = b_k1 / b_k1_norm\n",
    "\n",
    "    return b_k\n",
    "\n",
    "\n",
    "'''\n",
    "               b' dot A dot b\n",
    "    R(A, b) = ----------------\n",
    "                 b' dot b\n",
    "'''\n",
    "def rayleigh_quotient(A, b):\n",
    "    return np.dot(b.transpose(), np.dot(A, b)) / np.dot(b.transpose(), b)\n",
    "\n",
    "\n",
    "def get_x(vi):\n",
    "    return vi / np.power(np.linalg.norm(vi), 2); \n",
    "\n",
    "##############\n",
    "# Application:\n",
    "##############\n",
    "iterations = 100\n",
    "\n",
    "A = np.array([[0.5, 0.5], [0.2, 0.8]])\n",
    "B = A;\n",
    "\n",
    "vs = []\n",
    "ls = []\n",
    "\n",
    "for i in range( A.shape[1] ):\n",
    "    # get eigen vector\n",
    "    vs.append(power_iteration(B, iterations))\n",
    "    # get eigen value\n",
    "    ls.append(rayleigh_quotient(B, vs[i]))\n",
    "    \n",
    "    # get deflation vector\n",
    "    x = get_x(vs[i])\n",
    "    # get new A\n",
    "    B = B - ls[i] * np.outer( vs[i], x.transpose() )\n",
    "    \n",
    "\n",
    "A_test = np.array([[0, 0], [0, 0]])\n",
    "np.set_printoptions(precision=3)\n",
    "for i in range( len(ls) ):\n",
    "    print( \"\\u03BB_%i: %.2f\" % (i, ls[i]) )\n",
    "    print( \"e_%i:\" % (i), vs[i], \"\\n\" )\n",
    "    \n",
    "    part = ls[i] * np.outer( vs[i], vs[i].transpose() )\n",
    "    A_test = A_test + part\n",
    "    \n",
    "print(A_test)\n"
   ]
  },
  {
   "cell_type": "code",
   "execution_count": null,
   "metadata": {},
   "outputs": [],
   "source": []
  }
 ],
 "metadata": {
  "kernelspec": {
   "display_name": "Python 3",
   "language": "python",
   "name": "python3"
  },
  "language_info": {
   "codemirror_mode": {
    "name": "ipython",
    "version": 3
   },
   "file_extension": ".py",
   "mimetype": "text/x-python",
   "name": "python",
   "nbconvert_exporter": "python",
   "pygments_lexer": "ipython3",
   "version": "3.8.3"
  }
 },
 "nbformat": 4,
 "nbformat_minor": 4
}
